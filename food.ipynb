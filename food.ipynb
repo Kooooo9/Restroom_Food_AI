{
 "cells": [
  {
   "cell_type": "code",
   "execution_count": 1,
   "id": "120908a0-69c2-441c-a259-dbe475b276ed",
   "metadata": {},
   "outputs": [],
   "source": [
    "import pandas as pd"
   ]
  },
  {
   "cell_type": "code",
   "execution_count": 5,
   "id": "d66d9d3b-2b18-4a9d-b4a5-b5e16af20dc4",
   "metadata": {},
   "outputs": [
    {
     "name": "stdout",
     "output_type": "stream",
     "text": [
      "Requirement already satisfied: openpyxl in /opt/miniconda3/envs/yh/lib/python3.10/site-packages (3.1.5)\n",
      "Requirement already satisfied: et-xmlfile in /opt/miniconda3/envs/yh/lib/python3.10/site-packages (from openpyxl) (2.0.0)\n",
      "Note: you may need to restart the kernel to use updated packages.\n"
     ]
    }
   ],
   "source": [
    "pip install openpyxl"
   ]
  },
  {
   "cell_type": "code",
   "execution_count": 7,
   "id": "983344ce-cdda-4bfe-9953-d475afebc1fd",
   "metadata": {},
   "outputs": [],
   "source": [
    "df = pd.read_excel(\"/Users/younghun/Desktop/20250408_음식DB.xlsx\")"
   ]
  },
  {
   "cell_type": "code",
   "execution_count": null,
   "id": "07e12233-5e60-4a63-acc4-ea5ffa716284",
   "metadata": {},
   "outputs": [],
   "source": [
    "# 오늘은 열 분류만 해볼게요 식품명, 단백질,지방, 탄수화물, 당류, 칼로리 분류하시고 NaN 제거만 해보시면 됩니다"
   ]
  },
  {
   "cell_type": "code",
   "execution_count": 10,
   "id": "9c94f8c2-87d7-4b3b-bfff-03d0c871287e",
   "metadata": {},
   "outputs": [
    {
     "data": {
      "text/plain": [
       "식품코드         0\n",
       "식품명          0\n",
       "데이터구분코드      0\n",
       "데이터구분명       0\n",
       "식품기원코드       0\n",
       "            ..\n",
       "업체명          0\n",
       "데이터생성방법코드    0\n",
       "데이터생성방법명     0\n",
       "데이터생성일자      0\n",
       "데이터기준일자      0\n",
       "Length: 159, dtype: int64"
      ]
     },
     "execution_count": 10,
     "metadata": {},
     "output_type": "execute_result"
    }
   ],
   "source": [
    "df.isna().sum()"
   ]
  },
  {
   "cell_type": "code",
   "execution_count": 18,
   "id": "ce725a84-a2d8-433d-a631-9d4ccbea05c0",
   "metadata": {},
   "outputs": [],
   "source": [
    "df = df.loc[:, ['식품명', '단백질(g)', '지방(g)', '탄수화물(g)', '당류(g)', '에너지(kcal)']]"
   ]
  },
  {
   "cell_type": "code",
   "execution_count": 19,
   "id": "af2e4548-1724-4841-9869-781451468163",
   "metadata": {},
   "outputs": [
    {
     "data": {
      "text/html": [
       "<div>\n",
       "<style scoped>\n",
       "    .dataframe tbody tr th:only-of-type {\n",
       "        vertical-align: middle;\n",
       "    }\n",
       "\n",
       "    .dataframe tbody tr th {\n",
       "        vertical-align: top;\n",
       "    }\n",
       "\n",
       "    .dataframe thead th {\n",
       "        text-align: right;\n",
       "    }\n",
       "</style>\n",
       "<table border=\"1\" class=\"dataframe\">\n",
       "  <thead>\n",
       "    <tr style=\"text-align: right;\">\n",
       "      <th></th>\n",
       "      <th>식품명</th>\n",
       "      <th>단백질(g)</th>\n",
       "      <th>지방(g)</th>\n",
       "      <th>탄수화물(g)</th>\n",
       "      <th>당류(g)</th>\n",
       "      <th>에너지(kcal)</th>\n",
       "    </tr>\n",
       "  </thead>\n",
       "  <tbody>\n",
       "    <tr>\n",
       "      <th>0</th>\n",
       "      <td>국밥_돼지머리</td>\n",
       "      <td>6.70</td>\n",
       "      <td>5.16</td>\n",
       "      <td>15.94</td>\n",
       "      <td>0.16</td>\n",
       "      <td>137</td>\n",
       "    </tr>\n",
       "    <tr>\n",
       "      <th>1</th>\n",
       "      <td>국밥_순대국밥</td>\n",
       "      <td>3.17</td>\n",
       "      <td>2.28</td>\n",
       "      <td>10.38</td>\n",
       "      <td>0.17</td>\n",
       "      <td>75</td>\n",
       "    </tr>\n",
       "    <tr>\n",
       "      <th>2</th>\n",
       "      <td>국밥_콩나물</td>\n",
       "      <td>1.45</td>\n",
       "      <td>0.24</td>\n",
       "      <td>10.93</td>\n",
       "      <td>0.00</td>\n",
       "      <td>52</td>\n",
       "    </tr>\n",
       "    <tr>\n",
       "      <th>3</th>\n",
       "      <td>기장밥</td>\n",
       "      <td>3.44</td>\n",
       "      <td>0.57</td>\n",
       "      <td>36.77</td>\n",
       "      <td>0.00</td>\n",
       "      <td>166</td>\n",
       "    </tr>\n",
       "    <tr>\n",
       "      <th>4</th>\n",
       "      <td>김밥</td>\n",
       "      <td>4.84</td>\n",
       "      <td>4.55</td>\n",
       "      <td>19.98</td>\n",
       "      <td>0.00</td>\n",
       "      <td>140</td>\n",
       "    </tr>\n",
       "    <tr>\n",
       "      <th>...</th>\n",
       "      <td>...</td>\n",
       "      <td>...</td>\n",
       "      <td>...</td>\n",
       "      <td>...</td>\n",
       "      <td>...</td>\n",
       "      <td>...</td>\n",
       "    </tr>\n",
       "    <tr>\n",
       "      <th>14579</th>\n",
       "      <td>딸기바나나 스무디</td>\n",
       "      <td>1.10</td>\n",
       "      <td>0.68</td>\n",
       "      <td>11.75</td>\n",
       "      <td>9.34</td>\n",
       "      <td>54</td>\n",
       "    </tr>\n",
       "    <tr>\n",
       "      <th>14580</th>\n",
       "      <td>미숫가루(선식)음료</td>\n",
       "      <td>2.90</td>\n",
       "      <td>1.10</td>\n",
       "      <td>27.73</td>\n",
       "      <td>12.67</td>\n",
       "      <td>128</td>\n",
       "    </tr>\n",
       "    <tr>\n",
       "      <th>14581</th>\n",
       "      <td>수박화채</td>\n",
       "      <td>1.20</td>\n",
       "      <td>0.87</td>\n",
       "      <td>7.79</td>\n",
       "      <td>5.78</td>\n",
       "      <td>42</td>\n",
       "    </tr>\n",
       "    <tr>\n",
       "      <th>14582</th>\n",
       "      <td>율무차</td>\n",
       "      <td>0.80</td>\n",
       "      <td>0.74</td>\n",
       "      <td>12.64</td>\n",
       "      <td>8.32</td>\n",
       "      <td>59</td>\n",
       "    </tr>\n",
       "    <tr>\n",
       "      <th>14583</th>\n",
       "      <td>감자범벅</td>\n",
       "      <td>2.30</td>\n",
       "      <td>0.05</td>\n",
       "      <td>21.91</td>\n",
       "      <td>4.44</td>\n",
       "      <td>95</td>\n",
       "    </tr>\n",
       "  </tbody>\n",
       "</table>\n",
       "<p>14584 rows × 6 columns</p>\n",
       "</div>"
      ],
      "text/plain": [
       "              식품명  단백질(g)  지방(g)  탄수화물(g)  당류(g)  에너지(kcal)\n",
       "0         국밥_돼지머리    6.70   5.16    15.94   0.16        137\n",
       "1         국밥_순대국밥    3.17   2.28    10.38   0.17         75\n",
       "2          국밥_콩나물    1.45   0.24    10.93   0.00         52\n",
       "3             기장밥    3.44   0.57    36.77   0.00        166\n",
       "4              김밥    4.84   4.55    19.98   0.00        140\n",
       "...           ...     ...    ...      ...    ...        ...\n",
       "14579   딸기바나나 스무디    1.10   0.68    11.75   9.34         54\n",
       "14580  미숫가루(선식)음료    2.90   1.10    27.73  12.67        128\n",
       "14581        수박화채    1.20   0.87     7.79   5.78         42\n",
       "14582         율무차    0.80   0.74    12.64   8.32         59\n",
       "14583        감자범벅    2.30   0.05    21.91   4.44         95\n",
       "\n",
       "[14584 rows x 6 columns]"
      ]
     },
     "execution_count": 19,
     "metadata": {},
     "output_type": "execute_result"
    }
   ],
   "source": [
    "df"
   ]
  },
  {
   "cell_type": "code",
   "execution_count": null,
   "id": "7c7fe4d2-f54f-480c-8693-f489f7b1f8ed",
   "metadata": {},
   "outputs": [],
   "source": []
  }
 ],
 "metadata": {
  "kernelspec": {
   "display_name": "Python 3 (ipykernel)",
   "language": "python",
   "name": "python3"
  },
  "language_info": {
   "codemirror_mode": {
    "name": "ipython",
    "version": 3
   },
   "file_extension": ".py",
   "mimetype": "text/x-python",
   "name": "python",
   "nbconvert_exporter": "python",
   "pygments_lexer": "ipython3",
   "version": "3.10.18"
  }
 },
 "nbformat": 4,
 "nbformat_minor": 5
}
